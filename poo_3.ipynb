{
 "cells": [
  {
   "cell_type": "markdown",
   "metadata": {},
   "source": [
    "## Exemple de classe et instanciation\n",
    "\n",
    "Le mot-clé `self` sert à désigner un objet (non encore instancié) qui va être utile pour définir son état et son comportement."
   ]
  },
  {
   "cell_type": "code",
   "execution_count": null,
   "metadata": {},
   "outputs": [],
   "source": [
    "class Point():\n",
    "    def __init__(self, x, y):\n",
    "        self.x = x\n",
    "        self.y = y\n",
    "\n",
    "    def position(self):\n",
    "        return [self.x, self.y]\n",
    "\n",
    "    def translate(self, x, y):\n",
    "        self.x += x\n",
    "        self.y += y\n",
    "\n",
    "    def symetrie_abscisses(self):\n",
    "        self.y = - self.y\n",
    "\n",
    "\n",
    "M = Point(1, 3)\n",
    "M.position()"
   ]
  },
  {
   "cell_type": "markdown",
   "metadata": {},
   "source": [
    "Compléter le code ci-dessus avec les méthodes `symetrie_ordonnées` et `distance_origine`.\n",
    "\n",
    "Ajouter un attribut de couleur."
   ]
  },
  {
   "cell_type": "markdown",
   "metadata": {},
   "source": [
    "**Reprise de l'exemple de classe `Epee`**\n",
    "Juste avec les déclarations des méthodes et quelques attributs."
   ]
  },
  {
   "cell_type": "code",
   "execution_count": null,
   "metadata": {},
   "outputs": [],
   "source": [
    "class Epee():\n",
    "    def __init__(self, modele, force):\n",
    "        self.modele = modele\n",
    "        self.force = force\n",
    "        self.est_utilise = False\n",
    "\n",
    "    def combat(self, une_autre_epee):\n",
    "        pass\n",
    "\n",
    "    def utiliser(self):\n",
    "        pass\n",
    "\n",
    "    def ranger(self):\n",
    "        pass"
   ]
  },
  {
   "cell_type": "markdown",
   "metadata": {},
   "source": [
    "Compléter les méthodes, attribuer des valeurs par défaut lors de l'initialisation, ajouter des attributs, des méthodes etc."
   ]
  },
  {
   "cell_type": "markdown",
   "metadata": {},
   "source": [
    "Puis instancier des épées, et utiliser la classe."
   ]
  },
  {
   "cell_type": "code",
   "execution_count": null,
   "metadata": {},
   "outputs": [],
   "source": []
  },
  {
   "cell_type": "markdown",
   "metadata": {},
   "source": [
    "## Création complète d'une classe\n",
    "\n",
    "- Définir une classe `Vecteur`.\n",
    "- Proposer des attributs et des méthodes.\n",
    "- Représenter avec le rectangle vu en cours votre classe.\n",
    "- Écrire une documentation (en docstring)."
   ]
  },
  {
   "cell_type": "code",
   "execution_count": null,
   "metadata": {},
   "outputs": [],
   "source": []
  }
 ],
 "metadata": {
  "kernelspec": {
   "display_name": "Python 3",
   "language": "python",
   "name": "python3"
  },
  "language_info": {
   "codemirror_mode": {
    "name": "ipython",
    "version": 3
   },
   "file_extension": ".py",
   "mimetype": "text/x-python",
   "name": "python",
   "nbconvert_exporter": "python",
   "pygments_lexer": "ipython3",
   "version": "3.8.5"
  },
  "name": "poo3.ipynb"
 },
 "nbformat": 4,
 "nbformat_minor": 4
}
