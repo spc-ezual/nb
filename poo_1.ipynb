{
 "cells": [
  {
   "cell_type": "markdown",
   "metadata": {},
   "source": [
    "## En Python\n",
    "On accède aux attributs et aux méthodes d'un objet en faisant\n",
    "suivre le nom de l'objet par un \".\" puis le nom de l'attibut ou de\n",
    "la méthode.\n",
    "\n",
    "Par exemple, si je dispose d'un objet `obj` avec un attribut `valeur`, on y accède avec :\n",
    "`obj.valeur`\n",
    "S'il dispose d'une méthode `trier` (sans argument) :\n",
    "`obj.trier()`\n",
    "\n",
    "En python, les différents types (entiers, flottants, listes, chaînes etc.) sont en fait des objets."
   ]
  },
  {
   "cell_type": "markdown",
   "metadata": {},
   "source": [
    "**Prenons le type entier.**\n",
    "\n",
    "Créer un entier puis explorer ses attributs et méthodes.\n",
    "Pour cela il suffit de définir un entier, puis dans la ligne suivante écrire le nom de l'objet suivi d'un point puis appuyer sur la touche de tabulation.\n",
    "Jupyter vous propose alors les attributs et méthodes disponibles."
   ]
  },
  {
   "cell_type": "code",
   "execution_count": null,
   "metadata": {},
   "outputs": [],
   "source": []
  },
  {
   "cell_type": "markdown",
   "metadata": {},
   "source": [
    "**Prenons le type liste.**\n",
    "\n",
    "Créer une liste puis explorer ses attributs et méthodes."
   ]
  },
  {
   "cell_type": "code",
   "execution_count": null,
   "metadata": {},
   "outputs": [],
   "source": []
  },
  {
   "cell_type": "markdown",
   "metadata": {},
   "source": [
    "**Prenons le type fonction.**\n",
    "\n",
    "Créer une fonction puis explorer ses attributs et méthodes."
   ]
  },
  {
   "cell_type": "code",
   "execution_count": null,
   "metadata": {},
   "outputs": [],
   "source": []
  }
 ],
 "metadata": {
  "kernelspec": {
   "display_name": "Python 3",
   "language": "python",
   "name": "python3"
  },
  "language_info": {
   "codemirror_mode": {
    "name": "ipython",
    "version": 3
   },
   "file_extension": ".py",
   "mimetype": "text/x-python",
   "name": "python",
   "nbconvert_exporter": "python",
   "pygments_lexer": "ipython3",
   "version": "3.8.5"
  },
  "name": "poo_1.ipynb"
 },
 "nbformat": 4,
 "nbformat_minor": 4
}
