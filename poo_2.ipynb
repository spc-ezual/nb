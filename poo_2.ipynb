{
 "cells": [
  {
   "cell_type": "markdown",
   "metadata": {},
   "source": [
    "Le mot-clé `class` permet de créer une classe.\n",
    "\n",
    "Le code minimal pour une classe `Epee` est~:"
   ]
  },
  {
   "cell_type": "code",
   "execution_count": null,
   "metadata": {},
   "outputs": [],
   "source": [
    "class Epee:\n",
    "    pass"
   ]
  },
  {
   "cell_type": "markdown",
   "metadata": {},
   "source": [
    "Instancier cette classe ci-dessous :"
   ]
  },
  {
   "cell_type": "code",
   "execution_count": null,
   "metadata": {},
   "outputs": [],
   "source": []
  },
  {
   "cell_type": "markdown",
   "metadata": {},
   "source": [
    "Créons une variable `force` et observons son comportement"
   ]
  },
  {
   "cell_type": "code",
   "execution_count": null,
   "metadata": {},
   "outputs": [],
   "source": [
    "class Epee:\n",
    "    force = 100"
   ]
  },
  {
   "cell_type": "code",
   "execution_count": null,
   "metadata": {},
   "outputs": [],
   "source": [
    "f = Epee()\n",
    "f.force"
   ]
  },
  {
   "cell_type": "code",
   "execution_count": null,
   "metadata": {},
   "outputs": [],
   "source": [
    "Epee.force = 110\n",
    "g = Epee()\n",
    "print(f.force, g.force)"
   ]
  },
  {
   "cell_type": "code",
   "execution_count": null,
   "metadata": {},
   "outputs": [],
   "source": [
    "g.force = 120\n",
    "print(f.force, g.force, Epee.force)"
   ]
  },
  {
   "cell_type": "code",
   "execution_count": null,
   "metadata": {},
   "outputs": [],
   "source": [
    "Epee.force = 130\n",
    "print(f.force, g.force, Epee.force)"
   ]
  },
  {
   "cell_type": "markdown",
   "metadata": {},
   "source": [
    "**Conclusion :** la variable `force` est une variable partagée par tous les objets. La valeur par défaut est `Epee.force`.\n",
    "Les objets peuvent redéfinir cette valeur de deux manières :\n",
    "- en utilisant `Epee.force` qui prendra une nouvelle valeur pour toutes les instances\n",
    "- en utilsant *monobjet*`.force` qui sera alors un attribut de *monobjet* et donc se détache de la valeur partagée.\n",
    "\n",
    "Ce type de variable est appelée `variable de classe`.\n",
    "Il est commun que les objets modifient et **partagent** cette variable.\n",
    "\n",
    "Que cette variable puisse devenir un attribut (variable lié à un objet et non plus à la classe entière) est plutôt gênant. On créera alors plutôt un `attribut`.\n",
    "Pour le faire, il faut faire référence à l'objet (non encore créé), c'est l'utilité du mot clé `self`.\n",
    "\n",
    "Lorsqu'on instancie un objet la méthode `__init__` est appelée automatiquement. C'est donc naturellement dans cette méthode qu'on va initialiser l'objet donc notamment définir les valeurs des attributs de départ.\n"
   ]
  },
  {
   "cell_type": "code",
   "execution_count": null,
   "metadata": {},
   "outputs": [],
   "source": [
    "class Epee():\n",
    "    def __init__(self):\n",
    "        self.force = 110"
   ]
  },
  {
   "cell_type": "code",
   "execution_count": null,
   "metadata": {},
   "outputs": [],
   "source": [
    "f = Epee()\n",
    "g = Epee()\n",
    "print(f.force, g.force)"
   ]
  },
  {
   "cell_type": "markdown",
   "metadata": {},
   "source": [
    "Dans le code précédent, les deux valeurs de `f.force` et `g.force` ne sont pas du tout partagées. 110 est la valeur par défaut à la création de l'objet mais il n'y a ensuite aucun lien entre deux attributs d'objets différents."
   ]
  },
  {
   "cell_type": "markdown",
   "metadata": {},
   "source": [
    "On peut aussi, à la création de l'objet, passer des arguments :"
   ]
  },
  {
   "cell_type": "code",
   "execution_count": null,
   "metadata": {},
   "outputs": [],
   "source": [
    "class Epee():\n",
    "    def __init__(self, force):\n",
    "        self.force = force\n",
    "            \n",
    "f = Epee(100)\n",
    "f.force"
   ]
  },
  {
   "cell_type": "code",
   "execution_count": null,
   "metadata": {},
   "outputs": [],
   "source": [
    "class Epee():\n",
    "    def __init__(self, force=110):\n",
    "        self.force = force\n",
    "            \n",
    "f = Epee(100)\n",
    "g = Epee()\n",
    "print(f.force, g.force)"
   ]
  },
  {
   "cell_type": "markdown",
   "metadata": {},
   "source": [
    "On peut ajouter une méthode :"
   ]
  },
  {
   "cell_type": "code",
   "execution_count": null,
   "metadata": {},
   "outputs": [],
   "source": [
    "class Epee():\n",
    "    def __init__(self, force=110):\n",
    "        self.force = force\n",
    "    \n",
    "    def comparaison(self, une_autre_epee):\n",
    "        if self.force == une_autre_epee.force:\n",
    "            print(\"Épée de même force\")\n",
    "        elif self.force > une_autre_epee.force:\n",
    "            print(\"Cette épée est meilleure\")\n",
    "        else:\n",
    "            print(\"L'autre épée est meilleure\")\n",
    "            \n",
    "f = Epee(100)\n",
    "g = Epee()\n",
    "f.comparaison(g)"
   ]
  },
  {
   "cell_type": "markdown",
   "metadata": {},
   "source": [
    "**Remarque** Les méthodes ont toujours comme premier argument le mot-clé désignant l'objet. Mais quand on appelle les méthodes, ce premier argument n'est pas à prendre en compte. En fait ce premier argument est trouvé par la méthode dans le nom de l'objet qui l'appelle (le nom qui se trouve avant le point), ainsi dans la dernière ligne la méthode `comparaison` sait que le premier argument est l'objet `f`."
   ]
  }
 ],
 "metadata": {
  "kernelspec": {
   "display_name": "Python 3",
   "language": "python",
   "name": "python3"
  },
  "language_info": {
   "codemirror_mode": {
    "name": "ipython",
    "version": 3
   },
   "file_extension": ".py",
   "mimetype": "text/x-python",
   "name": "python",
   "nbconvert_exporter": "python",
   "pygments_lexer": "ipython3",
   "version": "3.8.5"
  },
  "name": "Untitled.ipynb"
 },
 "nbformat": 4,
 "nbformat_minor": 4
}
